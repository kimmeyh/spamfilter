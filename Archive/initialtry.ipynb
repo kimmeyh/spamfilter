{
 "cells": [
  {
   "cell_type": "markdown",
   "metadata": {},
   "source": [
    "Documentation\n",
    "\n",
    "This script is part of the OutlookMailSpamFilter project and is located at /d:/Data/Harold/github/OutlookMailSpamFilter/initialtry.ipynb."
   ]
  },
  {
   "cell_type": "code",
   "execution_count": null,
   "metadata": {
    "vscode": {
     "languageId": "markdown"
    }
   },
   "outputs": [],
   "source": []
  },
  {
   "cell_type": "code",
   "execution_count": 2,
   "metadata": {},
   "outputs": [],
   "source": [
    "\"\"\"\n",
    "Imports:\n",
    "- win32com.client: Provides access to the COM object model, used for interacting with Outlook.\n",
    "- re: Provides regular expression matching operations.\n",
    "- datetime: Supplies classes for manipulating dates and times.\n",
    "- timedelta: Used to represent the difference between two dates or times.\n",
    "- logging: Used for logging messages to a file or console.\n",
    "\n",
    "\"\"\"\n",
    "import win32com.client\n",
    "import re\n",
    "from datetime import datetime, timedelta\n",
    "import logging"
   ]
  },
  {
   "cell_type": "code",
   "execution_count": 3,
   "metadata": {},
   "outputs": [],
   "source": [
    "class OutlookSecurityAgent:\n",
    "    def __init__(self):\n",
    "        \"\"\"Initialize the Outlook Security Agent with connection to Outlook\"\"\"\n",
    "        self.outlook = win32com.client.Dispatch(\"Outlook.Application\")\n",
    "        self.namespace = self.outlook.GetNamespace(\"MAPI\")\n",
    "        self.inbox = self.namespace.GetDefaultFolder(6)  # 6 represents the inbox\n",
    "\n",
    "        # Configure logging\n",
    "        logging.basicConfig(\n",
    "            filename='outlook_security.log',\n",
    "            level=logging.INFO,\n",
    "            format='%(asctime)s - %(levelname)s - %(message)s'\n",
    "        )\n",
    "\n",
    "    def check_phishing_indicators(self, email):\n",
    "        \"\"\"\n",
    "        Check for common phishing indicators in an email\n",
    "        Returns a list of detected indicators\n",
    "        \"\"\"\n",
    "        indicators = []\n",
    "\n",
    "        # Check sender domain mismatch\n",
    "        sender = email.SenderEmailAddress.lower()\n",
    "        display_name = email.SenderName.lower()\n",
    "        if '@' in display_name and display_name != sender:\n",
    "            indicators.append(\"Sender name/email mismatch\")\n",
    "\n",
    "        # Check for urgent language in subject\n",
    "        urgent_words = ['urgent', 'immediate', 'action required', 'account suspended']\n",
    "        if any(word in email.Subject.lower() for word in urgent_words):\n",
    "            indicators.append(\"Urgent language in subject\")\n",
    "\n",
    "        # Check for suspicious links\n",
    "        if email.HTMLBody:\n",
    "            # Look for URLs that don't match their display text\n",
    "            href_pattern = r'href=[\\'\"]?([^\\'\" >]+)'\n",
    "            displayed_urls = re.findall(href_pattern, email.HTMLBody)\n",
    "            for url in displayed_urls:\n",
    "                if 'http' in url.lower():\n",
    "                    if url.lower() not in email.HTMLBody.lower():\n",
    "                        indicators.append(\"Mismatched URL display text\")\n",
    "                        break\n",
    "\n",
    "        # Check for password or credential requests\n",
    "        sensitive_words = ['password', 'login', 'credential', 'verify account']\n",
    "        if any(word in email.Body.lower() for word in sensitive_words):\n",
    "            indicators.append(\"Requests for sensitive information\")\n",
    "\n",
    "        return indicators\n",
    "\n",
    "    def process_emails(self, days_back=1):\n",
    "        \"\"\"\n",
    "        Process emails from the last specified number of days\n",
    "        Move suspicious emails to a designated folder\n",
    "        \"\"\"\n",
    "        try:\n",
    "            # Create Security folder if it doesn't exist\n",
    "            security_folder = None\n",
    "            try:\n",
    "                security_folder = self.namespace.GetDefaultFolder(6).Folders[\"Security Review\"]\n",
    "            except:\n",
    "                security_folder = self.namespace.GetDefaultFolder(6).Folders.Add(\"Security Review\")\n",
    "\n",
    "            # Get recent emails\n",
    "            restriction = \"[ReceivedTime] >= '\" + \\\n",
    "                (datetime.now() - timedelta(days=days_back)).strftime('%m/%d/%Y') + \"'\"\n",
    "            emails = self.inbox.Items.Restrict(restriction)\n",
    "\n",
    "            for email in emails:\n",
    "                try:\n",
    "                    indicators = self.check_phishing_indicators(email)\n",
    "\n",
    "                    if indicators:\n",
    "                        # Log the suspicious email\n",
    "                        logging.info(f\"Suspicious email detected:\\nFrom: {email.SenderEmailAddress}\\n\" +\n",
    "                                   f\"Subject: {email.Subject}\\nIndicators: {', '.join(indicators)}\")\n",
    "\n",
    "                        # Add warning to email subject\n",
    "                        email.Subject = \"[SUSPICIOUS] \" + email.Subject\n",
    "\n",
    "                        # Move to security review folder\n",
    "                        email.Move(security_folder)\n",
    "\n",
    "                except Exception as e:\n",
    "                    logging.error(f\"Error processing email: {str(e)}\")\n",
    "\n",
    "        except Exception as e:\n",
    "            logging.error(f\"Error in process_emails: {str(e)}\")\n",
    "            raise\n",
    "\n",
    "    def get_security_stats(self):\n",
    "        \"\"\"Return statistics about processed emails\"\"\"\n",
    "        security_folder = self.namespace.GetDefaultFolder(6).Folders[\"Security Review\"]\n",
    "        stats = {\n",
    "            'total_flagged': len(security_folder.Items),\n",
    "            'flagged_today': len(security_folder.Items.Restrict(\n",
    "                \"[ReceivedTime] >= '\" + datetime.now().strftime('%m/%d/%Y') + \"'\"))\n",
    "        }\n",
    "        return stats\n"
   ]
  },
  {
   "cell_type": "code",
   "execution_count": null,
   "metadata": {},
   "outputs": [],
   "source": [
    "    \"\"\"Main function to run the security agent\"\"\"\n",
    "    agent = OutlookSecurityAgent()\n",
    "\n",
    "    # Process last 24 hours of emails\n",
    "    agent.process_emails(days_back=1)\n",
    "\n",
    "    # Get and print statistics\n",
    "    stats = agent.get_security_stats()\n",
    "    print(f\"Security Agent Report:\")\n",
    "    print(f\"Total flagged emails: {stats['total_flagged']}\")\n",
    "    print(f\"Flagged today: {stats['flagged_today']}\")"
   ]
  },
  {
   "cell_type": "code",
   "execution_count": null,
   "metadata": {},
   "outputs": [],
   "source": []
  },
  {
   "cell_type": "code",
   "execution_count": null,
   "metadata": {},
   "outputs": [],
   "source": []
  },
  {
   "cell_type": "code",
   "execution_count": null,
   "metadata": {},
   "outputs": [],
   "source": []
  },
  {
   "cell_type": "code",
   "execution_count": null,
   "metadata": {},
   "outputs": [],
   "source": []
  },
  {
   "cell_type": "code",
   "execution_count": null,
   "metadata": {},
   "outputs": [],
   "source": []
  },
  {
   "cell_type": "code",
   "execution_count": null,
   "metadata": {},
   "outputs": [],
   "source": []
  }
 ],
 "metadata": {
  "kernelspec": {
   "display_name": ".venv",
   "language": "python",
   "name": "python3"
  },
  "language_info": {
   "codemirror_mode": {
    "name": "ipython",
    "version": 3
   },
   "file_extension": ".py",
   "mimetype": "text/x-python",
   "name": "python",
   "nbconvert_exporter": "python",
   "pygments_lexer": "ipython3",
   "version": "3.12.5"
  }
 },
 "nbformat": 4,
 "nbformat_minor": 2
}
